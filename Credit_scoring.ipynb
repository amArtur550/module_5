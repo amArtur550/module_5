{
 "cells": [
  {
   "cell_type": "code",
   "execution_count": 2,
   "metadata": {},
   "outputs": [],
   "source": [
    "import pandas as pd\n",
    "import numpy as np\n",
    "import matplotlib.pyplot as plt\n",
    "import seaborn as sns\n",
    "\n",
    "from sklearn.feature_selection import f_classif, mutual_info_classif\n",
    "from sklearn.preprocessing import StandardScaler\n",
    "from sklearn.model_selection import train_test_split, cross_val_score, GridSearchCV\n",
    "from sklearn.linear_model import LogisticRegression\n",
    "from sklearn.metrics import roc_auc_score, roc_curve\n",
    "from sklearn.ensemble import RandomForestClassifier"
   ]
  },
  {
   "cell_type": "code",
   "execution_count": 3,
   "metadata": {
    "scrolled": true
   },
   "outputs": [
    {
     "name": "stdout",
     "output_type": "stream",
     "text": [
      "<class 'pandas.core.frame.DataFrame'>\n",
      "Int64Index: 73799 entries, 25905 to 15796\n",
      "Data columns (total 17 columns):\n",
      " #   Column            Non-Null Count  Dtype  \n",
      "---  ------            --------------  -----  \n",
      " 0   education         73492 non-null  object \n",
      " 1   sex               73799 non-null  object \n",
      " 2   age               73799 non-null  int64  \n",
      " 3   car               73799 non-null  object \n",
      " 4   car_type          73799 non-null  object \n",
      " 5   decline_app_cnt   73799 non-null  int64  \n",
      " 6   good_work         73799 non-null  int64  \n",
      " 7   score_bki         73799 non-null  float64\n",
      " 8   bki_request_cnt   73799 non-null  int64  \n",
      " 9   region_rating     73799 non-null  int64  \n",
      " 10  home_address      73799 non-null  int64  \n",
      " 11  work_address      73799 non-null  int64  \n",
      " 12  income            73799 non-null  int64  \n",
      " 13  sna               73799 non-null  int64  \n",
      " 14  first_time        73799 non-null  int64  \n",
      " 15  foreign_passport  73799 non-null  object \n",
      " 16  default           73799 non-null  int64  \n",
      "dtypes: float64(1), int64(11), object(5)\n",
      "memory usage: 10.1+ MB\n",
      "<class 'pandas.core.frame.DataFrame'>\n",
      "Int64Index: 36349 entries, 74835 to 69044\n",
      "Data columns (total 16 columns):\n",
      " #   Column            Non-Null Count  Dtype  \n",
      "---  ------            --------------  -----  \n",
      " 0   education         36178 non-null  object \n",
      " 1   sex               36349 non-null  object \n",
      " 2   age               36349 non-null  int64  \n",
      " 3   car               36349 non-null  object \n",
      " 4   car_type          36349 non-null  object \n",
      " 5   decline_app_cnt   36349 non-null  int64  \n",
      " 6   good_work         36349 non-null  int64  \n",
      " 7   score_bki         36349 non-null  float64\n",
      " 8   bki_request_cnt   36349 non-null  int64  \n",
      " 9   region_rating     36349 non-null  int64  \n",
      " 10  home_address      36349 non-null  int64  \n",
      " 11  work_address      36349 non-null  int64  \n",
      " 12  income            36349 non-null  int64  \n",
      " 13  sna               36349 non-null  int64  \n",
      " 14  first_time        36349 non-null  int64  \n",
      " 15  foreign_passport  36349 non-null  object \n",
      "dtypes: float64(1), int64(10), object(5)\n",
      "memory usage: 4.7+ MB\n",
      "<class 'pandas.core.frame.DataFrame'>\n",
      "RangeIndex: 24354 entries, 0 to 24353\n",
      "Data columns (total 2 columns):\n",
      " #   Column     Non-Null Count  Dtype  \n",
      "---  ------     --------------  -----  \n",
      " 0   client_id  24354 non-null  int64  \n",
      " 1   default    24354 non-null  float64\n",
      "dtypes: float64(1), int64(1)\n",
      "memory usage: 380.7 KB\n"
     ]
    }
   ],
   "source": [
    "train = pd.read_csv('train.csv', index_col='client_id')\n",
    "test = pd.read_csv('test.csv', index_col='client_id')\n",
    "sub_sample = pd.read_csv('sample_submission.csv')\n",
    "\n",
    "# столбец с датой удалим, т.к. интуитивно он не может сильно влиять на вероятность дефолта\n",
    "# (учитывая, что все данные по 2014ому году)\n",
    "\n",
    "train.drop(columns=['app_date'], inplace=True)\n",
    "test.drop(columns=['app_date'], inplace=True)\n",
    "\n",
    "num_cols = ['age', 'decline_app_cnt', 'bki_request_cnt', 'income', 'score_bki', 'region_rating']\n",
    "cat_cols = ['education', 'home_address', 'work_address', 'sna', 'first_time', ]\n",
    "bin_cols = ['sex', 'car', 'car_type', 'foreign_passport', 'good_work']\n",
    "\n",
    "train.info()\n",
    "test.info()\n",
    "sub_sample.info()"
   ]
  },
  {
   "cell_type": "markdown",
   "metadata": {},
   "source": [
    "# Предобработка данных"
   ]
  },
  {
   "cell_type": "markdown",
   "metadata": {},
   "source": [
    "## Пропуски в данных\n",
    "\n",
    "В обеих выборках пропуски присутствуют только в столбце ```education```\n",
    "\n",
    "В целом доля пропусков довольно незначительна (в обеих примерно по 0.4%)\n",
    "\n",
    "Таким образом, заполним пропуски наиболее популярным значением (модой) и потратим временные ресурсы на проработку моделей"
   ]
  },
  {
   "cell_type": "code",
   "execution_count": 4,
   "metadata": {
    "scrolled": true
   },
   "outputs": [
    {
     "name": "stdout",
     "output_type": "stream",
     "text": [
      "education           0\n",
      "sex                 0\n",
      "age                 0\n",
      "car                 0\n",
      "car_type            0\n",
      "decline_app_cnt     0\n",
      "good_work           0\n",
      "score_bki           0\n",
      "bki_request_cnt     0\n",
      "region_rating       0\n",
      "home_address        0\n",
      "work_address        0\n",
      "income              0\n",
      "sna                 0\n",
      "first_time          0\n",
      "foreign_passport    0\n",
      "default             0\n",
      "dtype: int64 education           0\n",
      "sex                 0\n",
      "age                 0\n",
      "car                 0\n",
      "car_type            0\n",
      "decline_app_cnt     0\n",
      "good_work           0\n",
      "score_bki           0\n",
      "bki_request_cnt     0\n",
      "region_rating       0\n",
      "home_address        0\n",
      "work_address        0\n",
      "income              0\n",
      "sna                 0\n",
      "first_time          0\n",
      "foreign_passport    0\n",
      "dtype: int64\n"
     ]
    }
   ],
   "source": [
    "train['education'].fillna(train['education'].mode().values[0], inplace=True)\n",
    "\n",
    "# чтобы не менять параметры распределения, заполним пропуски в test тем же значением, что и в train\n",
    "test['education'].fillna(train['education'].mode().values[0], inplace=True) \n",
    "\n",
    "# make sure na was filled\n",
    "print(train.isna().sum(), test.isna().sum())"
   ]
  },
  {
   "cell_type": "markdown",
   "metadata": {},
   "source": [
    "## Визуализация данных\n",
    "\n",
    "Визуализируем числовые признаки, чтобы понять, какие из них нуждаются в логарифмировании, а какие - нет"
   ]
  },
  {
   "cell_type": "code",
   "execution_count": 5,
   "metadata": {
    "scrolled": true
   },
   "outputs": [
    {
     "data": {
      "image/png": "[encoded data removed]",
      "text/plain": [
       "<Figure size 432x288 with 1 Axes>"
      ]
     },
     "metadata": {
      "needs_background": "light"
     },
     "output_type": "display_data"
    },
    {
     "data": {
      "image/png": "[encoded data removed]",
      "text/plain": [
       "<Figure size 432x288 with 1 Axes>"
      ]
     },
     "metadata": {
      "needs_background": "light"
     },
     "output_type": "display_data"
    },
    {
     "data": {
      "image/png": "[encoded data removed]",
      "text/plain": [
       "<Figure size 432x288 with 1 Axes>"
      ]
     },
     "metadata": {
      "needs_background": "light"
     },
     "output_type": "display_data"
    },
    {
     "data": {
      "image/png": "[encoded data removed]",
      "text/plain": [
       "<Figure size 432x288 with 1 Axes>"
      ]
     },
     "metadata": {
      "needs_background": "light"
     },
     "output_type": "display_data"
    },
    {
     "data": {
      "image/png": "[encoded data removed]",
      "text/plain": [
       "<Figure size 432x288 with 1 Axes>"
      ]
     },
     "metadata": {
      "needs_background": "light"
     },
     "output_type": "display_data"
    },
    {
     "data": {
      "image/png": "[encoded data removed]",
      "text/plain": [
       "<Figure size 432x288 with 1 Axes>"
      ]
     },
     "metadata": {
      "needs_background": "light"
     },
     "output_type": "display_data"
    }
   ],
   "source": [
    "for col in num_cols:\n",
    "    plt.hist(train[col], bins=50)\n",
    "    plt.title(col)\n",
    "    plt.show()"
   ]
  },
  {
   "cell_type": "markdown",
   "metadata": {},
   "source": [
    "### Вывод\n",
    "\n",
    "Попробуем логарифмировать все признаки, кроме ```score_bki```, т.к. распределение этого признака выглядит довольно похожим на нормальное"
   ]
  },
  {
   "cell_type": "markdown",
   "metadata": {},
   "source": [
    "### Логарифмирование и удаление выбросов"
   ]
  },
  {
   "cell_type": "code",
   "execution_count": 6,
   "metadata": {
    "scrolled": true
   },
   "outputs": [
    {
     "data": {
      "image/png": "[encoded data removed]",
      "text/plain": [
       "<Figure size 432x288 with 1 Axes>"
      ]
     },
     "metadata": {
      "needs_background": "light"
     },
     "output_type": "display_data"
    },
    {
     "data": {
      "image/png": "[encoded data removed]",
      "text/plain": [
       "<Figure size 432x288 with 1 Axes>"
      ]
     },
     "metadata": {
      "needs_background": "light"
     },
     "output_type": "display_data"
    },
    {
     "data": {
      "image/png": "[encoded data removed]",
      "text/plain": [
       "<Figure size 432x288 with 1 Axes>"
      ]
     },
     "metadata": {
      "needs_background": "light"
     },
     "output_type": "display_data"
    },
    {
     "data": {
      "image/png": "[encoded data removed]",
      "text/plain": [
       "<Figure size 432x288 with 1 Axes>"
      ]
     },
     "metadata": {
      "needs_background": "light"
     },
     "output_type": "display_data"
    },
    {
     "data": {
      "image/png": "[encoded data removed]",
      "text/plain": [
       "<Figure size 432x288 with 1 Axes>"
      ]
     },
     "metadata": {
      "needs_background": "light"
     },
     "output_type": "display_data"
    }
   ],
   "source": [
    "for col in num_cols:\n",
    "    \n",
    "    if col != 'score_bki':\n",
    "        plt.hist(np.log(train[col][train[col] > 0].dropna()), bins=50)\n",
    "        plt.title(col)\n",
    "        plt.show()"
   ]
  },
  {
   "cell_type": "markdown",
   "metadata": {},
   "source": [
    "### Вывод - 2\n",
    "\n",
    "Из построенных графиков видим, что значительно меняет свое распределение только признак ```income```, остальные остаются похожими на первоначальные распределения, при том, что часть данных теряется из-за ```dropna()```, т.к. например, в переменных ```decline_app_cnt, bki_request_cnt``` визуально заметно, что наиболее популярные значения - 0, в котором логарифм не определен\n",
    "\n",
    "**Логарифмируем переменную ```income```, остальные не меняем**"
   ]
  },
  {
   "cell_type": "code",
   "execution_count": 7,
   "metadata": {},
   "outputs": [
    {
     "name": "stdout",
     "output_type": "stream",
     "text": [
      "Потеряли наблюдений: 642\n"
     ]
    },
    {
     "data": {
      "image/png": "[encoded data removed]",
      "text/plain": [
       "<Figure size 432x288 with 1 Axes>"
      ]
     },
     "metadata": {
      "needs_background": "light"
     },
     "output_type": "display_data"
    }
   ],
   "source": [
    "# предварительно избавимся от выбросов в переменной income (выявили их после визуального анализа)\n",
    "std, q25, q75 = train['income'].std(), *train['income'].quantile([.25, .75]).values.tolist()\n",
    "\n",
    "temp = train.loc[\n",
    "    (train['income'] >= (q25 - 4 * std)) &\n",
    "    (train['income'] <= (q75 + 4 * std))\n",
    "]\n",
    "\n",
    "print(f'Потеряли наблюдений: {train.shape[0] - temp.shape[0]}')\n",
    "# получается, что такое удаление выбросов удаляет >1к наблюдений, слишком большая потеря\n",
    "# изменение количества станд. откл. не сильно влияет на количество найденных выбросов\n",
    "# поэтому оставим данные без удаления выбросов\n",
    "# В других числовых признаках удаление выбросов также приводит к потере большого кол-ва строк\n",
    "\n",
    "train['income'] = np.log(train['income'])\n",
    "test['income'] = np.log(test['income'])\n",
    "\n",
    "plt.hist(train['income'], bins=50)\n",
    "plt.title('income log')\n",
    "plt.show()"
   ]
  },
  {
   "cell_type": "markdown",
   "metadata": {},
   "source": [
    "### Корреляция числовых признаков"
   ]
  },
  {
   "cell_type": "code",
   "execution_count": 8,
   "metadata": {},
   "outputs": [
    {
     "data": {
      "text/plain": [
       "<AxesSubplot:>"
      ]
     },
     "execution_count": 8,
     "metadata": {},
     "output_type": "execute_result"
    },
    {
     "data": {
      "image/png": "[encoded data removed]",
      "text/plain": [
       "<Figure size 432x288 with 2 Axes>"
      ]
     },
     "metadata": {
      "needs_background": "light"
     },
     "output_type": "display_data"
    }
   ],
   "source": [
    "sns.heatmap(train[num_cols].corr(), annot=True)"
   ]
  },
  {
   "cell_type": "markdown",
   "metadata": {},
   "source": [
    "### Вывод\n",
    "\n",
    "Заметно, что признаки ```income``` и ```region_rating``` коррелируют довольно сильно, однако ```income``` несет в себе больше информации, т.к. ```region_rating``` - дискретный признак с небольшим количеством возможных значений, следовательно, ```region_rating``` удаляем"
   ]
  },
  {
   "cell_type": "code",
   "execution_count": 9,
   "metadata": {},
   "outputs": [
    {
     "data": {
      "text/plain": [
       "'region_rating'"
      ]
     },
     "execution_count": 9,
     "metadata": {},
     "output_type": "execute_result"
    }
   ],
   "source": [
    "train.drop(columns=['region_rating'],  inplace=True)\n",
    "test.drop(columns=['region_rating'],  inplace=True)\n",
    "num_cols.pop(num_cols.index('region_rating'))"
   ]
  },
  {
   "cell_type": "markdown",
   "metadata": {},
   "source": [
    "## Определение важности признаков"
   ]
  },
  {
   "cell_type": "code",
   "execution_count": 11,
   "metadata": {},
   "outputs": [
    {
     "data": {
      "image/png": "[encoded data removed]",
      "text/plain": [
       "<Figure size 432x288 with 1 Axes>"
      ]
     },
     "metadata": {
      "needs_background": "light"
     },
     "output_type": "display_data"
    }
   ],
   "source": [
    "imp_num = pd.Series(f_classif(train[num_cols], train['default'])[0], index=num_cols)\n",
    "imp_num.sort_values(inplace = True)\n",
    "imp_num.plot(kind = 'barh')\n",
    "plt.show()"
   ]
  },
  {
   "cell_type": "markdown",
   "metadata": {},
   "source": [
    "### Вывод\n",
    "\n",
    "Наиболее значимым признаком в отношении вероятности дефолта оказывается ```score_bki```, а наименее - возраст объекта."
   ]
  },
  {
   "cell_type": "markdown",
   "metadata": {},
   "source": [
    "## Масштабирование и кодировка категориальных признаков"
   ]
  },
  {
   "cell_type": "code",
   "execution_count": 9,
   "metadata": {},
   "outputs": [
    {
     "data": {
      "text/plain": [
       "<AxesSubplot:>"
      ]
     },
     "execution_count": 9,
     "metadata": {},
     "output_type": "execute_result"
    },
    {
     "data": {
      "image/png": "[encoded data removed]",
      "text/plain": [
       "<Figure size 432x288 with 1 Axes>"
      ]
     },
     "metadata": {
      "needs_background": "light"
     },
     "output_type": "display_data"
    }
   ],
   "source": [
    "# Масштабировани числовых признаков\n",
    "sc = StandardScaler()\n",
    "# обучаемся на только на train\n",
    "sc.fit(train[num_cols])\n",
    "\n",
    "train.loc[:, num_cols] = sc.transform(train[num_cols])\n",
    "test.loc[:, num_cols] = sc.transform(test[num_cols])\n",
    "\n",
    "train['age'].hist(bins=50)\n"
   ]
  },
  {
   "cell_type": "code",
   "execution_count": null,
   "metadata": {},
   "outputs": [],
   "source": [
    "1 2 3"
   ]
  },
  {
   "cell_type": "code",
   "execution_count": 10,
   "metadata": {},
   "outputs": [],
   "source": [
    "# Кодировка категориальных и бинарных признаков\n",
    "train = pd.get_dummies(train, columns=cat_cols + bin_cols, drop_first=True)\n",
    "test = pd.get_dummies(test, columns=cat_cols + bin_cols, drop_first=True)"
   ]
  },
  {
   "cell_type": "code",
   "execution_count": 11,
   "metadata": {},
   "outputs": [
    {
     "data": {
      "text/html": [
       "<div>\n",
       "<style scoped>\n",
       "    .dataframe tbody tr th:only-of-type {\n",
       "        vertical-align: middle;\n",
       "    }\n",
       "\n",
       "    .dataframe tbody tr th {\n",
       "        vertical-align: top;\n",
       "    }\n",
       "\n",
       "    .dataframe thead th {\n",
       "        text-align: right;\n",
       "    }\n",
       "</style>\n",
       "<table border=\"1\" class=\"dataframe\">\n",
       "  <thead>\n",
       "    <tr style=\"text-align: right;\">\n",
       "      <th></th>\n",
       "      <th>age</th>\n",
       "      <th>decline_app_cnt</th>\n",
       "      <th>score_bki</th>\n",
       "      <th>bki_request_cnt</th>\n",
       "      <th>income</th>\n",
       "      <th>default</th>\n",
       "      <th>education_GRD</th>\n",
       "      <th>education_PGR</th>\n",
       "      <th>education_SCH</th>\n",
       "      <th>education_UGR</th>\n",
       "      <th>...</th>\n",
       "      <th>sna_3</th>\n",
       "      <th>sna_4</th>\n",
       "      <th>first_time_2</th>\n",
       "      <th>first_time_3</th>\n",
       "      <th>first_time_4</th>\n",
       "      <th>sex_M</th>\n",
       "      <th>car_Y</th>\n",
       "      <th>car_type_Y</th>\n",
       "      <th>foreign_passport_Y</th>\n",
       "      <th>good_work_1</th>\n",
       "    </tr>\n",
       "    <tr>\n",
       "      <th>client_id</th>\n",
       "      <th></th>\n",
       "      <th></th>\n",
       "      <th></th>\n",
       "      <th></th>\n",
       "      <th></th>\n",
       "      <th></th>\n",
       "      <th></th>\n",
       "      <th></th>\n",
       "      <th></th>\n",
       "      <th></th>\n",
       "      <th></th>\n",
       "      <th></th>\n",
       "      <th></th>\n",
       "      <th></th>\n",
       "      <th></th>\n",
       "      <th></th>\n",
       "      <th></th>\n",
       "      <th></th>\n",
       "      <th></th>\n",
       "      <th></th>\n",
       "      <th></th>\n",
       "    </tr>\n",
       "  </thead>\n",
       "  <tbody>\n",
       "    <tr>\n",
       "      <th>25905</th>\n",
       "      <td>1.972115</td>\n",
       "      <td>-0.342858</td>\n",
       "      <td>-0.208799</td>\n",
       "      <td>-0.444189</td>\n",
       "      <td>-0.785007</td>\n",
       "      <td>0</td>\n",
       "      <td>0</td>\n",
       "      <td>0</td>\n",
       "      <td>1</td>\n",
       "      <td>0</td>\n",
       "      <td>...</td>\n",
       "      <td>0</td>\n",
       "      <td>1</td>\n",
       "      <td>0</td>\n",
       "      <td>0</td>\n",
       "      <td>0</td>\n",
       "      <td>1</td>\n",
       "      <td>1</td>\n",
       "      <td>1</td>\n",
       "      <td>0</td>\n",
       "      <td>0</td>\n",
       "    </tr>\n",
       "    <tr>\n",
       "      <th>63161</th>\n",
       "      <td>1.711705</td>\n",
       "      <td>-0.342858</td>\n",
       "      <td>0.747545</td>\n",
       "      <td>0.443888</td>\n",
       "      <td>-0.707516</td>\n",
       "      <td>0</td>\n",
       "      <td>0</td>\n",
       "      <td>0</td>\n",
       "      <td>1</td>\n",
       "      <td>0</td>\n",
       "      <td>...</td>\n",
       "      <td>0</td>\n",
       "      <td>1</td>\n",
       "      <td>0</td>\n",
       "      <td>0</td>\n",
       "      <td>0</td>\n",
       "      <td>0</td>\n",
       "      <td>0</td>\n",
       "      <td>0</td>\n",
       "      <td>0</td>\n",
       "      <td>0</td>\n",
       "    </tr>\n",
       "    <tr>\n",
       "      <th>25887</th>\n",
       "      <td>-1.239607</td>\n",
       "      <td>2.143880</td>\n",
       "      <td>0.996696</td>\n",
       "      <td>-0.444189</td>\n",
       "      <td>-0.052875</td>\n",
       "      <td>0</td>\n",
       "      <td>0</td>\n",
       "      <td>0</td>\n",
       "      <td>1</td>\n",
       "      <td>0</td>\n",
       "      <td>...</td>\n",
       "      <td>0</td>\n",
       "      <td>0</td>\n",
       "      <td>0</td>\n",
       "      <td>0</td>\n",
       "      <td>1</td>\n",
       "      <td>1</td>\n",
       "      <td>1</td>\n",
       "      <td>0</td>\n",
       "      <td>1</td>\n",
       "      <td>0</td>\n",
       "    </tr>\n",
       "    <tr>\n",
       "      <th>16222</th>\n",
       "      <td>1.190886</td>\n",
       "      <td>-0.342858</td>\n",
       "      <td>-0.306582</td>\n",
       "      <td>-0.000150</td>\n",
       "      <td>-1.627442</td>\n",
       "      <td>0</td>\n",
       "      <td>0</td>\n",
       "      <td>0</td>\n",
       "      <td>1</td>\n",
       "      <td>0</td>\n",
       "      <td>...</td>\n",
       "      <td>0</td>\n",
       "      <td>0</td>\n",
       "      <td>0</td>\n",
       "      <td>1</td>\n",
       "      <td>0</td>\n",
       "      <td>0</td>\n",
       "      <td>0</td>\n",
       "      <td>0</td>\n",
       "      <td>0</td>\n",
       "      <td>0</td>\n",
       "    </tr>\n",
       "    <tr>\n",
       "      <th>101655</th>\n",
       "      <td>0.756869</td>\n",
       "      <td>-0.342858</td>\n",
       "      <td>1.324697</td>\n",
       "      <td>-0.444189</td>\n",
       "      <td>-0.052875</td>\n",
       "      <td>0</td>\n",
       "      <td>1</td>\n",
       "      <td>0</td>\n",
       "      <td>0</td>\n",
       "      <td>0</td>\n",
       "      <td>...</td>\n",
       "      <td>0</td>\n",
       "      <td>0</td>\n",
       "      <td>0</td>\n",
       "      <td>0</td>\n",
       "      <td>1</td>\n",
       "      <td>1</td>\n",
       "      <td>0</td>\n",
       "      <td>0</td>\n",
       "      <td>1</td>\n",
       "      <td>1</td>\n",
       "    </tr>\n",
       "    <tr>\n",
       "      <th>...</th>\n",
       "      <td>...</td>\n",
       "      <td>...</td>\n",
       "      <td>...</td>\n",
       "      <td>...</td>\n",
       "      <td>...</td>\n",
       "      <td>...</td>\n",
       "      <td>...</td>\n",
       "      <td>...</td>\n",
       "      <td>...</td>\n",
       "      <td>...</td>\n",
       "      <td>...</td>\n",
       "      <td>...</td>\n",
       "      <td>...</td>\n",
       "      <td>...</td>\n",
       "      <td>...</td>\n",
       "      <td>...</td>\n",
       "      <td>...</td>\n",
       "      <td>...</td>\n",
       "      <td>...</td>\n",
       "      <td>...</td>\n",
       "      <td>...</td>\n",
       "    </tr>\n",
       "    <tr>\n",
       "      <th>54887</th>\n",
       "      <td>0.496459</td>\n",
       "      <td>-0.342858</td>\n",
       "      <td>0.226120</td>\n",
       "      <td>0.443888</td>\n",
       "      <td>-0.866929</td>\n",
       "      <td>0</td>\n",
       "      <td>1</td>\n",
       "      <td>0</td>\n",
       "      <td>0</td>\n",
       "      <td>0</td>\n",
       "      <td>...</td>\n",
       "      <td>0</td>\n",
       "      <td>1</td>\n",
       "      <td>0</td>\n",
       "      <td>0</td>\n",
       "      <td>1</td>\n",
       "      <td>0</td>\n",
       "      <td>0</td>\n",
       "      <td>0</td>\n",
       "      <td>0</td>\n",
       "      <td>0</td>\n",
       "    </tr>\n",
       "    <tr>\n",
       "      <th>76821</th>\n",
       "      <td>0.149246</td>\n",
       "      <td>-0.342858</td>\n",
       "      <td>-0.307702</td>\n",
       "      <td>-0.444189</td>\n",
       "      <td>1.161500</td>\n",
       "      <td>0</td>\n",
       "      <td>0</td>\n",
       "      <td>0</td>\n",
       "      <td>1</td>\n",
       "      <td>0</td>\n",
       "      <td>...</td>\n",
       "      <td>0</td>\n",
       "      <td>0</td>\n",
       "      <td>0</td>\n",
       "      <td>0</td>\n",
       "      <td>1</td>\n",
       "      <td>1</td>\n",
       "      <td>1</td>\n",
       "      <td>1</td>\n",
       "      <td>0</td>\n",
       "      <td>0</td>\n",
       "    </tr>\n",
       "    <tr>\n",
       "      <th>103695</th>\n",
       "      <td>-0.718787</td>\n",
       "      <td>-0.342858</td>\n",
       "      <td>0.786967</td>\n",
       "      <td>0.887926</td>\n",
       "      <td>0.528250</td>\n",
       "      <td>0</td>\n",
       "      <td>0</td>\n",
       "      <td>0</td>\n",
       "      <td>1</td>\n",
       "      <td>0</td>\n",
       "      <td>...</td>\n",
       "      <td>0</td>\n",
       "      <td>0</td>\n",
       "      <td>1</td>\n",
       "      <td>0</td>\n",
       "      <td>0</td>\n",
       "      <td>1</td>\n",
       "      <td>0</td>\n",
       "      <td>0</td>\n",
       "      <td>0</td>\n",
       "      <td>0</td>\n",
       "    </tr>\n",
       "    <tr>\n",
       "      <th>861</th>\n",
       "      <td>-0.892393</td>\n",
       "      <td>-0.342858</td>\n",
       "      <td>0.853806</td>\n",
       "      <td>0.443888</td>\n",
       "      <td>-1.251413</td>\n",
       "      <td>1</td>\n",
       "      <td>0</td>\n",
       "      <td>0</td>\n",
       "      <td>1</td>\n",
       "      <td>0</td>\n",
       "      <td>...</td>\n",
       "      <td>0</td>\n",
       "      <td>0</td>\n",
       "      <td>0</td>\n",
       "      <td>1</td>\n",
       "      <td>0</td>\n",
       "      <td>0</td>\n",
       "      <td>0</td>\n",
       "      <td>0</td>\n",
       "      <td>0</td>\n",
       "      <td>1</td>\n",
       "    </tr>\n",
       "    <tr>\n",
       "      <th>15796</th>\n",
       "      <td>-0.458377</td>\n",
       "      <td>-0.342858</td>\n",
       "      <td>0.281021</td>\n",
       "      <td>-0.000150</td>\n",
       "      <td>-0.314185</td>\n",
       "      <td>0</td>\n",
       "      <td>1</td>\n",
       "      <td>0</td>\n",
       "      <td>0</td>\n",
       "      <td>0</td>\n",
       "      <td>...</td>\n",
       "      <td>0</td>\n",
       "      <td>0</td>\n",
       "      <td>0</td>\n",
       "      <td>1</td>\n",
       "      <td>0</td>\n",
       "      <td>1</td>\n",
       "      <td>0</td>\n",
       "      <td>0</td>\n",
       "      <td>0</td>\n",
       "      <td>0</td>\n",
       "    </tr>\n",
       "  </tbody>\n",
       "</table>\n",
       "<p>73799 rows × 25 columns</p>\n",
       "</div>"
      ],
      "text/plain": [
       "                age  decline_app_cnt  score_bki  bki_request_cnt    income  \\\n",
       "client_id                                                                    \n",
       "25905      1.972115        -0.342858  -0.208799        -0.444189 -0.785007   \n",
       "63161      1.711705        -0.342858   0.747545         0.443888 -0.707516   \n",
       "25887     -1.239607         2.143880   0.996696        -0.444189 -0.052875   \n",
       "16222      1.190886        -0.342858  -0.306582        -0.000150 -1.627442   \n",
       "101655     0.756869        -0.342858   1.324697        -0.444189 -0.052875   \n",
       "...             ...              ...        ...              ...       ...   \n",
       "54887      0.496459        -0.342858   0.226120         0.443888 -0.866929   \n",
       "76821      0.149246        -0.342858  -0.307702        -0.444189  1.161500   \n",
       "103695    -0.718787        -0.342858   0.786967         0.887926  0.528250   \n",
       "861       -0.892393        -0.342858   0.853806         0.443888 -1.251413   \n",
       "15796     -0.458377        -0.342858   0.281021        -0.000150 -0.314185   \n",
       "\n",
       "           default  education_GRD  education_PGR  education_SCH  \\\n",
       "client_id                                                         \n",
       "25905            0              0              0              1   \n",
       "63161            0              0              0              1   \n",
       "25887            0              0              0              1   \n",
       "16222            0              0              0              1   \n",
       "101655           0              1              0              0   \n",
       "...            ...            ...            ...            ...   \n",
       "54887            0              1              0              0   \n",
       "76821            0              0              0              1   \n",
       "103695           0              0              0              1   \n",
       "861              1              0              0              1   \n",
       "15796            0              1              0              0   \n",
       "\n",
       "           education_UGR  ...  sna_3  sna_4  first_time_2  first_time_3  \\\n",
       "client_id                 ...                                             \n",
       "25905                  0  ...      0      1             0             0   \n",
       "63161                  0  ...      0      1             0             0   \n",
       "25887                  0  ...      0      0             0             0   \n",
       "16222                  0  ...      0      0             0             1   \n",
       "101655                 0  ...      0      0             0             0   \n",
       "...                  ...  ...    ...    ...           ...           ...   \n",
       "54887                  0  ...      0      1             0             0   \n",
       "76821                  0  ...      0      0             0             0   \n",
       "103695                 0  ...      0      0             1             0   \n",
       "861                    0  ...      0      0             0             1   \n",
       "15796                  0  ...      0      0             0             1   \n",
       "\n",
       "           first_time_4  sex_M  car_Y  car_type_Y  foreign_passport_Y  \\\n",
       "client_id                                                               \n",
       "25905                 0      1      1           1                   0   \n",
       "63161                 0      0      0           0                   0   \n",
       "25887                 1      1      1           0                   1   \n",
       "16222                 0      0      0           0                   0   \n",
       "101655                1      1      0           0                   1   \n",
       "...                 ...    ...    ...         ...                 ...   \n",
       "54887                 1      0      0           0                   0   \n",
       "76821                 1      1      1           1                   0   \n",
       "103695                0      1      0           0                   0   \n",
       "861                   0      0      0           0                   0   \n",
       "15796                 0      1      0           0                   0   \n",
       "\n",
       "           good_work_1  \n",
       "client_id               \n",
       "25905                0  \n",
       "63161                0  \n",
       "25887                0  \n",
       "16222                0  \n",
       "101655               1  \n",
       "...                ...  \n",
       "54887                0  \n",
       "76821                0  \n",
       "103695               0  \n",
       "861                  1  \n",
       "15796                0  \n",
       "\n",
       "[73799 rows x 25 columns]"
      ]
     },
     "execution_count": 11,
     "metadata": {},
     "output_type": "execute_result"
    }
   ],
   "source": [
    "train"
   ]
  },
  {
   "cell_type": "markdown",
   "metadata": {},
   "source": [
    "# Обучение и выбор модели\n",
    "\n",
    "Попробуем обучить модели\n",
    "- Logistic Regression\n",
    "- Random Forest\n",
    "\n",
    "Для оценки качества будем использовать кросс-валидацию на 3 фолдах\n",
    "\n",
    "Затем подберем наилучшие параметры для моделей с помощью ```GridSearchCV```"
   ]
  },
  {
   "cell_type": "code",
   "execution_count": 15,
   "metadata": {},
   "outputs": [],
   "source": [
    "X = train.drop(columns=['default'])\n",
    "y = train['default']"
   ]
  },
  {
   "cell_type": "code",
   "execution_count": 22,
   "metadata": {},
   "outputs": [
    {
     "name": "stdout",
     "output_type": "stream",
     "text": [
      "Average quality: 0.7171010860800692\n",
      "All results: [0.71382777 0.72091663 0.71655886]\n",
      "CPU times: user 29.1 ms, sys: 7.36 ms, total: 36.5 ms\n",
      "Wall time: 1.54 s\n"
     ]
    }
   ],
   "source": [
    "%%time\n",
    "lr = LogisticRegression(n_jobs=-1)\n",
    "\n",
    "q = cross_val_score(lr, X, y, cv=3, scoring='roc_auc', n_jobs=-1)\n",
    "print(f'Average quality: {q.mean()}')\n",
    "print(f'All results: {q}')"
   ]
  },
  {
   "cell_type": "code",
   "execution_count": 23,
   "metadata": {},
   "outputs": [
    {
     "name": "stdout",
     "output_type": "stream",
     "text": [
      "RANDOM FOREST\n",
      "Average quality: 0.6792522089961966\n",
      "All results: [0.67662211 0.68339206 0.67774246]\n",
      "CPU times: user 63.5 ms, sys: 16.5 ms, total: 80 ms\n",
      "Wall time: 6.82 s\n"
     ]
    }
   ],
   "source": [
    "%%time\n",
    "print('RANDOM FOREST')\n",
    "rf = RandomForestClassifier(n_estimators=100, n_jobs=-1)\n",
    "q = cross_val_score(rf, X, y, cv=3, scoring='roc_auc', n_jobs=-1)\n",
    "print(f'Average quality: {q.mean()}')\n",
    "print(f'All results: {q}')"
   ]
  },
  {
   "cell_type": "markdown",
   "metadata": {},
   "source": [
    "## Оценка качества\n",
    "\n",
    "Лучшие результаты демонстрирует модель логистической регрессии, попробуем подобрать гиперпараметры для нее"
   ]
  },
  {
   "cell_type": "code",
   "execution_count": 27,
   "metadata": {},
   "outputs": [
    {
     "name": "stderr",
     "output_type": "stream",
     "text": [
      "/home/cooper/.local/lib/python3.8/site-packages/sklearn/model_selection/_search.py:918: UserWarning: One or more of the test scores are non-finite: [       nan 0.71710109        nan        nan 0.71709301        nan\n",
      "        nan 0.71708798        nan        nan 0.71708236        nan\n",
      "        nan 0.71708189        nan        nan 0.71707863        nan\n",
      "        nan 0.71708066        nan        nan 0.71708042        nan\n",
      "        nan 0.71707871        nan        nan 0.71708013        nan]\n",
      "  warnings.warn(\n"
     ]
    },
    {
     "name": "stdout",
     "output_type": "stream",
     "text": [
      "Best Penalty: l2\n",
      "Best C: 1.0\n",
      "Best score: 0.7171010860800692\n",
      "CPU times: user 682 ms, sys: 197 ms, total: 879 ms\n",
      "Wall time: 10.5 s\n"
     ]
    }
   ],
   "source": [
    "%%time\n",
    "params_grid = {\n",
    "    'penalty': ['l1', 'l2', 'elasticnet'],\n",
    "    'C': np.logspace(0, 4, 10)\n",
    "}\n",
    "\n",
    "clf = GridSearchCV(LogisticRegression(n_jobs=-1), params_grid, scoring='roc_auc', cv=3, n_jobs=-1)\n",
    "clf.fit(X, y)\n",
    "print('Best Penalty:', clf.best_estimator_.get_params()['penalty'])\n",
    "print('Best C:', clf.best_estimator_.get_params()['C'])\n",
    "print('Best score:', clf.best_score_)"
   ]
  },
  {
   "cell_type": "markdown",
   "metadata": {},
   "source": [
    "## Получение предсказаний\n",
    "\n",
    "Для этого обучим модель логистической регрессии с параметрами ```penalty: l2, C: 1``` на всей обучающей выборке и предскажем на тестовой"
   ]
  },
  {
   "cell_type": "code",
   "execution_count": 40,
   "metadata": {},
   "outputs": [
    {
     "data": {
      "text/plain": [
       "array([[0.96408034, 0.03591966],\n",
       "       [0.61515274, 0.38484726],\n",
       "       [0.94227592, 0.05772408],\n",
       "       ...,\n",
       "       [0.68567511, 0.31432489],\n",
       "       [0.76570105, 0.23429895],\n",
       "       [0.72418834, 0.27581166]])"
      ]
     },
     "execution_count": 40,
     "metadata": {},
     "output_type": "execute_result"
    }
   ],
   "source": [
    "lr = LogisticRegression(penalty='l2', C=1, n_jobs=-1)\n",
    "lr.fit(X, y)\n",
    "\n",
    "predictions = lr.predict_proba(test)\n",
    "predictions"
   ]
  },
  {
   "cell_type": "code",
   "execution_count": 42,
   "metadata": {},
   "outputs": [
    {
     "data": {
      "text/plain": [
       "client_id\n",
       "74835     0.035920\n",
       "17527     0.384847\n",
       "75683     0.057724\n",
       "26883     0.071775\n",
       "28862     0.040642\n",
       "            ...   \n",
       "83775     0.301003\n",
       "106254    0.020036\n",
       "81852     0.314325\n",
       "1971      0.234299\n",
       "69044     0.275812\n",
       "Name: default, Length: 36349, dtype: float64"
      ]
     },
     "execution_count": 42,
     "metadata": {},
     "output_type": "execute_result"
    }
   ],
   "source": [
    "test['default'] = predictions[:, 1]\n",
    "\n",
    "test['default']"
   ]
  },
  {
   "cell_type": "code",
   "execution_count": 44,
   "metadata": {},
   "outputs": [],
   "source": [
    "test[['default']].to_csv('submimssion.csv')"
   ]
  },
  {
   "cell_type": "code",
   "execution_count": null,
   "metadata": {},
   "outputs": [],
   "source": []
  }
 ],
 "metadata": {
  "kernelspec": {
   "display_name": "Python 3",
   "language": "python",
   "name": "python3"
  },
  "language_info": {
   "codemirror_mode": {
    "name": "ipython",
    "version": 3
   },
   "file_extension": ".py",
   "mimetype": "text/x-python",
   "name": "python",
   "nbconvert_exporter": "python",
   "pygments_lexer": "ipython3",
   "version": "3.8.5"
  }
 },
 "nbformat": 4,
 "nbformat_minor": 4
}
